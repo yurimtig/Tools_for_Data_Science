{
 "cells": [
  {
   "cell_type": "markdown",
   "id": "14de340a-af5c-476c-9890-70f80ea14039",
   "metadata": {},
   "source": [
    "# Data Science Tools and Ecosystem"
   ]
  },
  {
   "cell_type": "markdown",
   "id": "15ec9948-a924-4e26-8eff-1e7db617a45a",
   "metadata": {},
   "source": [
    "### In this notebook, Data Science Tools and Ecosystem are summarized."
   ]
  },
  {
   "cell_type": "markdown",
   "id": "e4637ad0-d223-4261-87d5-70e63da6a9c3",
   "metadata": {},
   "source": [
    "**Objectives:**\n",
    "- List popular languages for Data Science.\n",
    "- List popular libraries for Data Science.\n",
    "- Create a table whit three development environment open source tools used in Data Science.\n",
    "- Create a arithmetic expression."
   ]
  },
  {
   "cell_type": "markdown",
   "id": "9c5d2c14-cf3c-4378-86ca-b18252cecbdb",
   "metadata": {},
   "source": [
    "#### Some of the popular languages that Data Scientists use are:\n",
    "1. Python\n",
    "2. R\n",
    "3. SQL"
   ]
  },
  {
   "cell_type": "markdown",
   "id": "b198dd83-ae41-4eac-9c4b-4e6b2aab0f7d",
   "metadata": {},
   "source": [
    "#### Some of the commonly used libraries used by Data Scientists include:\n",
    "\n",
    "* NumPy\n",
    "* Pandas\n",
    "* Matlab"
   ]
  },
  {
   "cell_type": "markdown",
   "id": "dd1fb297-6909-4e4c-aa44-5f09d90b5d69",
   "metadata": {},
   "source": [
    "| Data Science Tools |\n",
    "| --- |\n",
    "| Jupyterlab |\n",
    "| RStudio |\n",
    "| Jupyter Notebooks |"
   ]
  },
  {
   "cell_type": "markdown",
   "id": "10ddcb0e-2efd-46a8-a6dd-bed6e4425e58",
   "metadata": {},
   "source": [
    "### Below are a few examples of evaluating arithmetic expressions in Python."
   ]
  },
  {
   "cell_type": "code",
   "execution_count": 2,
   "id": "d7dc6209-3eca-49f8-b472-2021bbe04ce7",
   "metadata": {
    "tags": []
   },
   "outputs": [
    {
     "name": "stdout",
     "output_type": "stream",
     "text": [
      "17\n"
     ]
    }
   ],
   "source": [
    "# This a simple arithmetic expression to mutiply then add integers\n",
    "\n",
    "value = (3*4) + 5\n",
    "print(value)\n",
    "    "
   ]
  },
  {
   "cell_type": "code",
   "execution_count": 3,
   "id": "bc230ed6-3280-4b68-bf82-edd28bc44796",
   "metadata": {
    "tags": []
   },
   "outputs": [
    {
     "name": "stdout",
     "output_type": "stream",
     "text": [
      "5.0\n"
     ]
    }
   ],
   "source": [
    "# This will convert 200 minutes to hours by diving by 60\n",
    "\n",
    "minutes = 300\n",
    "\n",
    "hours = minutes / 60\n",
    "\n",
    "print(hours)"
   ]
  },
  {
   "cell_type": "markdown",
   "id": "b5cd33a9-11d2-4a0d-b9d9-18b7e224c60f",
   "metadata": {},
   "source": [
    "## Author\n",
    "Yuri Moreira"
   ]
  },
  {
   "cell_type": "code",
   "execution_count": null,
   "id": "51593840-6597-4007-9c36-72aab37507b1",
   "metadata": {},
   "outputs": [],
   "source": []
  }
 ],
 "metadata": {
  "kernelspec": {
   "display_name": "Python 3 (ipykernel)",
   "language": "python",
   "name": "python3"
  },
  "language_info": {
   "codemirror_mode": {
    "name": "ipython",
    "version": 3
   },
   "file_extension": ".py",
   "mimetype": "text/x-python",
   "name": "python",
   "nbconvert_exporter": "python",
   "pygments_lexer": "ipython3",
   "version": "3.8.10"
  }
 },
 "nbformat": 4,
 "nbformat_minor": 5
}
